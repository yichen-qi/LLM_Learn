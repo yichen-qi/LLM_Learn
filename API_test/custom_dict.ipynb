{
 "cells": [
  {
   "cell_type": "markdown",
   "id": "ffc46b22",
   "metadata": {},
   "source": [
    "# 自定义字典"
   ]
  },
  {
   "cell_type": "markdown",
   "id": "587e86dd",
   "metadata": {},
   "source": [
    "## 导入模型"
   ]
  },
  {
   "cell_type": "code",
   "execution_count": 10,
   "id": "6c864515",
   "metadata": {},
   "outputs": [
    {
     "name": "stdout",
     "output_type": "stream",
     "text": [
      "21128\n",
      "True\n",
      "1045\n",
      "False\n"
     ]
    }
   ],
   "source": [
    "from transformers import BertTokenizer, BertForSequenceClassification, pipeline\n",
    "\n",
    "model_dir = \"./model/google-bert/bert-base-chinese/models--google-bert--bert-base-chinese/snapshots/c30a6ed22ab4564dc1e3b2ecbf6e766b0611a33f\"\n",
    "\n",
    "# model = BertForSequenceClassification.from_pretrained(model_dir)\n",
    "token = BertTokenizer.from_pretrained(model_dir)\n",
    "\n",
    "vocab = token.get_vocab()\n",
    "\n",
    "# print(vocab)\n",
    "print(len(vocab))\n",
    "print('光' in vocab)\n",
    "print(vocab['光'])\n",
    "print('阳光' in vocab)\n"
   ]
  },
  {
   "cell_type": "markdown",
   "id": "86ac3c78",
   "metadata": {},
   "source": [
    "### 添加新词 阳光,大地进入字典\n",
    "### 添加特殊字符"
   ]
  },
  {
   "cell_type": "code",
   "execution_count": 15,
   "id": "7d05b41a",
   "metadata": {},
   "outputs": [
    {
     "name": "stdout",
     "output_type": "stream",
     "text": [
      "True True True\n",
      "21131\n"
     ]
    },
    {
     "data": {
      "text/plain": [
       "BertTokenizer(name_or_path='./model/google-bert/bert-base-chinese/models--google-bert--bert-base-chinese/snapshots/c30a6ed22ab4564dc1e3b2ecbf6e766b0611a33f', vocab_size=21128, model_max_length=512, is_fast=False, padding_side='right', truncation_side='right', special_tokens={'eos_token': '[EOS]', 'unk_token': '[UNK]', 'sep_token': '[SEP]', 'pad_token': '[PAD]', 'cls_token': '[CLS]', 'mask_token': '[MASK]'}, clean_up_tokenization_spaces=True, added_tokens_decoder={\n",
       "\t0: AddedToken(\"[PAD]\", rstrip=False, lstrip=False, single_word=False, normalized=False, special=True),\n",
       "\t100: AddedToken(\"[UNK]\", rstrip=False, lstrip=False, single_word=False, normalized=False, special=True),\n",
       "\t101: AddedToken(\"[CLS]\", rstrip=False, lstrip=False, single_word=False, normalized=False, special=True),\n",
       "\t102: AddedToken(\"[SEP]\", rstrip=False, lstrip=False, single_word=False, normalized=False, special=True),\n",
       "\t103: AddedToken(\"[MASK]\", rstrip=False, lstrip=False, single_word=False, normalized=False, special=True),\n",
       "\t21128: AddedToken(\"阳光\", rstrip=False, lstrip=False, single_word=False, normalized=True, special=False),\n",
       "\t21129: AddedToken(\"大地\", rstrip=False, lstrip=False, single_word=False, normalized=True, special=False),\n",
       "\t21130: AddedToken(\"[EOS]\", rstrip=False, lstrip=False, single_word=False, normalized=False, special=True),\n",
       "}\n",
       ")"
      ]
     },
     "execution_count": 15,
     "metadata": {},
     "output_type": "execute_result"
    }
   ],
   "source": [
    "token.add_tokens(new_tokens = ['阳光', '大地'])\n",
    "token.add_special_tokens({'eos_token':'[EOS]'})\n",
    "vocab = token.get_vocab()\n",
    "print('阳光' in vocab, '大地' in vocab, '[EOS]' in vocab)\n",
    "print(len(vocab))\n",
    "token"
   ]
  },
  {
   "cell_type": "markdown",
   "id": "7eaa4c95",
   "metadata": {},
   "source": [
    "## 编码新句子 之后解码为原字符窜\n",
    "✅ 推荐使用方式：tokenizer(text, ...)（更灵活）  \n",
    "常用参数列表如下：\n",
    "\n",
    "```\n",
    "参数名                   类型                        说明\n",
    "----------------------  --------------------------  ------------------------------------------------------\n",
    "text                    str or List[str]            要编码的单个文本或文本列表\n",
    "text_pair               str or List[str], 可选      第二个文本段（如问答任务）\n",
    "add_special_tokens      bool, 默认 True             是否添加特殊标记，如 [CLS] 和 [SEP]\n",
    "padding                 bool, 'max_length',        \n",
    "                         'longest'                  是否进行 padding（填充），用于 batch 中序列对齐\n",
    "truncation              bool, 'longest_first', \n",
    "                        'only_first', 'only_second' 是否截断超长序列\n",
    "max_length              int, 可选                   最大序列长度（截断或填充目标）\n",
    "return_tensors          'pt', 'tf', 'np', None      是否返回张量（适用于 PyTorch、TensorFlow）\n",
    "return_attention_mask   bool，默认 True             是否返回 attention mask\n",
    "return_token_type_ids   bool，默认 True             是否返回 token 类型 ID（如句子对任务中区分句子）\n",
    "return_special_tokens_mask bool, 可选              返回特殊标记的掩码（如 [CLS], [SEP]）\n",
    "return_offsets_mapping  bool, 可选                  返回每个 token 对应的原始字符位置（用于 NER 等）\n",
    "stride                  int, 可选                   对超长文本进行滑窗截断时使用\n",
    "is_split_into_words     bool, 可选                  输入是否为已分词的词列表而不是字符串\n",
    "pad_to_multiple_of      int, 可选                   将序列填充到某个倍数（用于 batch GPU 并行优化）\n",
    "```\n"
   ]
  },
  {
   "cell_type": "code",
   "execution_count": 21,
   "id": "f135c720",
   "metadata": {},
   "outputs": [
    {
     "name": "stdout",
     "output_type": "stream",
     "text": [
      "[101, 21128, 4212, 1762, 749, 21129, 677, 21130, 102, 0]\n",
      "[CLS] 阳光 照 在 了 大地 上 [EOS] [SEP] [PAD]\n"
     ]
    }
   ],
   "source": [
    "out = token.encode(text = '阳光照在了大地上[EOS]',\n",
    "            text_pair = None,\n",
    "            truncation = True,\n",
    "            padding = 'max_length',\n",
    "            max_length = 10,\n",
    "            add_special_tokens = True,\n",
    "            return_tensors = None)\n",
    "\n",
    "print(out)\n",
    "print(token.decode(out))\n",
    "\n",
    "#or\n",
    "encoded = token(\n",
    "    text='阳光照在了大地上',\n",
    "    add_special_tokens=True,\n",
    "    padding='max_length',\n",
    "    truncation=True,\n",
    "    max_length=10,\n",
    "    return_tensors='pt'\n",
    ")\n",
    "encoded "
   ]
  }
 ],
 "metadata": {
  "kernelspec": {
   "display_name": "LLM",
   "language": "python",
   "name": "python3"
  },
  "language_info": {
   "codemirror_mode": {
    "name": "ipython",
    "version": 3
   },
   "file_extension": ".py",
   "mimetype": "text/x-python",
   "name": "python",
   "nbconvert_exporter": "python",
   "pygments_lexer": "ipython3",
   "version": "3.12.3"
  }
 },
 "nbformat": 4,
 "nbformat_minor": 5
}
